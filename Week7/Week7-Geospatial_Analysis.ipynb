{
 "cells": [
  {
   "cell_type": "markdown",
   "id": "f44475eb",
   "metadata": {},
   "source": [
    "<table width=100%; style=\"background-color:#caf0fa\";>\n",
    "    <tr style=\"background-color:#caf0fa\">\n",
    "        <td>\n",
    "            <h1 style=\"text-align:right\">\n",
    "                Python for Data Science Training - Week 7\n",
    "            </h1>\n",
    "        </td>\n",
    "        <td>\n",
    "            <img src=\"../img/jica-logo.png\" alt = \"JICA Training\" style = \"width: 100px;\"/>\n",
    "        </td>\n",
    "    </tr>\n",
    "</table>\n",
    "\n",
    "# Today's Contents\n",
    "## Geospatial analysis\n",
    "\n",
    "---\n",
    "Before starting the session, you need to follow the instructions.\n",
    "\n",
    "1. Create a virtual environment\n",
    "Geospatial libraries require various dependencies. It is safer to set up a new virtual environment. Open `command prompt`, and a new virtual environment is created by:\n",
    "```python\n",
    "conda create -n geospatial\n",
    "```\n",
    "where `geospatial` can be replaced into any name, i.e., `geo`, `spatial`, or whatever you want to call.\n",
    "\n",
    "\n",
    "2. Activate the virtual environment\n",
    "From now, you will run your command on your newly created virtual environment. Run the following command\n",
    "```python\n",
    "conda activate geospatial\n",
    "```\n",
    "Then, you will find that your virtual environemnt name will be appeared in front of the text on the command prompt.\n",
    "\n",
    "\n",
    "3. Install libraries\n",
    "When creating a new virtual environment, Anaconda automatically install major libraries such as numpy, pandas, and matplotlib. However, you need to additionally install relevant libraries on geospatial analysis.\n",
    "```python\n",
    "conda install geopandas  # Essential library for vector data\n",
    "conda install -c conda-forge descartes  # Necessary for visualizing a map\n",
    "conda install -c conda-forge mapclassify  # Necessary for creating a choropleth map\n",
    "conda install -c conda-forge rasterstats  # Useful library for statistical summary of raster data\n",
    "```\n",
    "\n",
    "4. Add kernel to jupyter notebook\n",
    "Good to add a new kernel to allow geospatial libraries to load in the jupyter notebook. Run the following command on your command prompt:\n",
    "```pyton\n",
    "ipython kernel install --name \"geospatial\" --user\n",
    "```\n",
    "where `\"geospatial\"` can be any name that you want to name.\n",
    "\n",
    "\n",
    "5. Launch jupyter notebook on your new virtual environment  \n",
    "At this moment, you will be standing on your newly created virtual environment. Just type `jupyter notebook`, then jupyter notebook will be launed."
   ]
  },
  {
   "cell_type": "markdown",
   "id": "afaac1dc",
   "metadata": {},
   "source": [
    "# Load libraries"
   ]
  },
  {
   "cell_type": "code",
   "execution_count": null,
   "id": "c829b50d",
   "metadata": {},
   "outputs": [],
   "source": [
    "import pandas as pd\n",
    "import numpy as np\n",
    "import matplotlib.pyplot as plt\n",
    "%matplotlib inline\n",
    "import os\n",
    "import warnings; warnings.filterwarnings('ignore')\n",
    "\n",
    "import geopandas as gpd"
   ]
  },
  {
   "cell_type": "code",
   "execution_count": null,
   "id": "95a79b01",
   "metadata": {},
   "outputs": [],
   "source": [
    "# show data directory\n",
    "os.listdir('data')"
   ]
  },
  {
   "cell_type": "code",
   "execution_count": null,
   "id": "c18e05c8",
   "metadata": {},
   "outputs": [],
   "source": [
    "# Investigate into vietnam roads directory\n",
    "os.listdir('data/VNM_rds/')"
   ]
  },
  {
   "cell_type": "code",
   "execution_count": null,
   "id": "ce69a537",
   "metadata": {},
   "outputs": [],
   "source": [
    "# inestigate into admin data\n",
    "os.listdir('data/VNM_adm/')"
   ]
  },
  {
   "cell_type": "markdown",
   "id": "de092197",
   "metadata": {},
   "source": [
    "## Shapefileとは\n",
    "１つの地図情報が`.shp`, `.shx`, `.dbf`, `.prj`, `.csv`, `.cpg`から構成。それぞれを理解する必要はなく、すごく端的に言えば、CSVデータに地理座標がくっついているイメージ。`geopandas`では`.shp`ファイルを読み込む。\n",
    "- `.shp` — shape format; the feature geometry itself {content-type: x-gis/x-shapefile}\n",
    "- `.shx` — shape index format; a positional index of the feature geometry to allow seeking forwards and backwards quickly {content-type: x-gis/x-shapefile}\n",
    "- `.dbf` — attribute format; columnar attributes for each shape, in dBase IV format {content-type: application/octet-stream OR text/plain}\n",
    "- `.prj` — projection description, using a well-known text representation of coordinate reference systems\n",
    "- `.cpg` — used to specify the code page (only for .dbf) for identifying the character encoding to be used\n",
    "\n",
    "shapefileの読み込み方は次のとおり。\n",
    "```python\n",
    "gpd.read_file(filename)\n",
    "```\n",
    "\n",
    "`data`フォルダに入れているデータはベトナムの行政区界（ADM1, ADM2, ADM3）と道路ネットワークのデータ。データは[GADM](https://gadm.org/)からダウンロード。"
   ]
  },
  {
   "cell_type": "code",
   "execution_count": null,
   "id": "db0f4c76",
   "metadata": {},
   "outputs": [],
   "source": [
    "# Read admin data\n",
    "vnm_adm1 = gpd.read_file('data/VNM_adm/VNM_adm1.shp')\n",
    "vnm_adm2 = gpd.read_file('data/VNM_adm/VNM_adm2.shp')\n",
    "vnm_adm3 = gpd.read_file('data/VNM_adm/VNM_adm3.shp')\n",
    "\n",
    "# Read road data\n",
    "vnm_rd = gpd.read_file('data/VNM_rds/VNM_roads.shp')"
   ]
  },
  {
   "cell_type": "code",
   "execution_count": null,
   "id": "680782df",
   "metadata": {},
   "outputs": [],
   "source": [
    "# Check the type of data\n",
    "type(vnm_adm1)"
   ]
  },
  {
   "cell_type": "code",
   "execution_count": null,
   "id": "02538915",
   "metadata": {},
   "outputs": [],
   "source": [
    "vnm_adm1.head(1)"
   ]
  },
  {
   "cell_type": "code",
   "execution_count": null,
   "id": "600b670f",
   "metadata": {},
   "outputs": [],
   "source": [
    "vnm_adm2.head(1)"
   ]
  },
  {
   "cell_type": "code",
   "execution_count": null,
   "id": "3f1cbe4a",
   "metadata": {},
   "outputs": [],
   "source": [
    "vnm_adm3.head(1)"
   ]
  },
  {
   "cell_type": "code",
   "execution_count": null,
   "id": "7a1b1fcd",
   "metadata": {},
   "outputs": [],
   "source": [
    "vnm_rd.head(1)"
   ]
  },
  {
   "cell_type": "markdown",
   "id": "7e2bf1dc",
   "metadata": {},
   "source": [
    "## CRSとは\n",
    "**CRS** (Coordinate Reference System; 座標参照系）とは、地図データの位置情報。**Geographic CRS**と**Projected CRS**に分かれる。Geographic CRSは単位を分・秒であらわし、一般的にWGS84（GPSの座標）が有名。一方、Projected CRSはUTM (Universal Trans Mercator)が一般的であり地域ごとにUTMが決まっており、単位が距離となる。"
   ]
  },
  {
   "cell_type": "code",
   "execution_count": null,
   "id": "2b0049a8",
   "metadata": {},
   "outputs": [],
   "source": [
    "# Geopandasでは`.crs` methodによりCRSを取得。\n",
    "print(vnm_adm1.crs)\n",
    "print(vnm_adm2.crs)\n",
    "print(vnm_adm3.crs)\n",
    "print(vnm_rd.crs)"
   ]
  },
  {
   "cell_type": "markdown",
   "id": "8c70574a",
   "metadata": {},
   "source": [
    "[**EPSG:4326**](https://spatialreference.org/ref/epsg/4326/)とは、WGS84（＝Geographic CRS）をEPSG Geodetic Parameter Datasetで示したもの。"
   ]
  },
  {
   "cell_type": "markdown",
   "id": "1df387f2",
   "metadata": {},
   "source": [
    "# Visualize shapefiles"
   ]
  },
  {
   "cell_type": "code",
   "execution_count": null,
   "id": "255a8988",
   "metadata": {},
   "outputs": [],
   "source": [
    "# Plot map\n",
    "vnm_adm1.plot(column = 'NAME_1', cmap = 'Set3', figsize = (5, 7));"
   ]
  },
  {
   "cell_type": "code",
   "execution_count": null,
   "id": "5cd45051",
   "metadata": {},
   "outputs": [],
   "source": [
    "# Show geometry column\n",
    "vnm_adm1['geometry']"
   ]
  },
  {
   "cell_type": "code",
   "execution_count": null,
   "id": "59325fa9",
   "metadata": {},
   "outputs": [],
   "source": [
    "# Check type of the geom column\n",
    "type(vnm_adm1['geometry'])"
   ]
  },
  {
   "cell_type": "code",
   "execution_count": null,
   "id": "71837176",
   "metadata": {},
   "outputs": [],
   "source": [
    "# Extract index 0 of geometry\n",
    "vnm_adm1['geometry'][2]"
   ]
  },
  {
   "cell_type": "code",
   "execution_count": null,
   "id": "1b20c2e4",
   "metadata": {},
   "outputs": [],
   "source": [
    "# Check type of index 0 of the geom column\n",
    "type(vnm_adm1['geometry'][2])"
   ]
  },
  {
   "cell_type": "code",
   "execution_count": null,
   "id": "43264e0a",
   "metadata": {},
   "outputs": [],
   "source": [
    "# Show xy coodninate of the bounding box of this geometry\n",
    "vnm_adm1['geometry'][2].bounds"
   ]
  },
  {
   "cell_type": "code",
   "execution_count": null,
   "id": "0fccce19",
   "metadata": {},
   "outputs": [],
   "source": [
    "# Plot map\n",
    "vnm_adm2.plot(column = 'NAME_2', cmap = 'Set3', figsize = (5, 7));"
   ]
  },
  {
   "cell_type": "code",
   "execution_count": null,
   "id": "b36e3aba",
   "metadata": {},
   "outputs": [],
   "source": [
    "# Plot map\n",
    "vnm_adm3.plot(column = 'NAME_3', cmap = 'Set3', figsize = (5, 7));"
   ]
  },
  {
   "cell_type": "code",
   "execution_count": null,
   "id": "ae263fb3",
   "metadata": {},
   "outputs": [],
   "source": [
    "fig, ax = plt.subplots(1, 1, figsize = (7, 9))\n",
    "# ADM2 to show\n",
    "vnm_adm2.plot(column = 'NAME_2', cmap = 'Set3', ax = ax)\n",
    "# ADM1 as a basis\n",
    "vnm_adm1.plot(edgecolor = 'blue', facecolor = 'none', linewidth = 1, ax = ax);"
   ]
  },
  {
   "cell_type": "code",
   "execution_count": null,
   "id": "44c18d21",
   "metadata": {},
   "outputs": [],
   "source": [
    "# Show road network\n",
    "vnm_rd.plot(figsize = (7, 9))"
   ]
  },
  {
   "cell_type": "code",
   "execution_count": null,
   "id": "1669433f",
   "metadata": {},
   "outputs": [],
   "source": [
    "# Change linewidth and color\n",
    "vnm_rd.plot(figsize = (7, 9), linewidth = .5, edgecolor = 'r')"
   ]
  },
  {
   "cell_type": "markdown",
   "id": "cc1cedad",
   "metadata": {},
   "source": [
    "### Distinguish primary and secondary roads"
   ]
  },
  {
   "cell_type": "code",
   "execution_count": null,
   "id": "6086225e",
   "metadata": {},
   "outputs": [],
   "source": [
    "# Let's look into the road type\n",
    "vnm_rd.head()"
   ]
  },
  {
   "cell_type": "markdown",
   "id": "d961c108",
   "metadata": {},
   "source": [
    "It seems like that `RTT_DESCRI` shows the road type."
   ]
  },
  {
   "cell_type": "code",
   "execution_count": null,
   "id": "522484c1",
   "metadata": {},
   "outputs": [],
   "source": [
    "# Look into the road type\n",
    "vnm_rd['RTT_DESCRI'].unique()"
   ]
  },
  {
   "cell_type": "code",
   "execution_count": null,
   "id": "5bf7530f",
   "metadata": {},
   "outputs": [],
   "source": [
    "# Filter primary and secondary roads\n",
    "cond1 = vnm_rd['RTT_DESCRI'] == 'Primary Route'\n",
    "cond2 = vnm_rd['RTT_DESCRI'] == 'Secondary Route'\n",
    "vnm_rd_primary = vnm_rd[cond1 | cond2]"
   ]
  },
  {
   "cell_type": "code",
   "execution_count": null,
   "id": "c233daf0",
   "metadata": {},
   "outputs": [],
   "source": [
    "# Show primary and secondary road networks\n",
    "vnm_rd_primary.plot(column = 'RTT_DESCRI', cmap = 'Set1', legend = True, figsize = (7, 9))"
   ]
  },
  {
   "cell_type": "code",
   "execution_count": null,
   "id": "be486578",
   "metadata": {},
   "outputs": [],
   "source": [
    "# Show admin1 and road network\n",
    "fig, ax = plt.subplots(1, 1, figsize = (7, 9))\n",
    "vnm_rd_primary.plot(column = 'RTT_DESCRI', cmap = 'Set1', legend = True, linewidth = 1, ax = ax)\n",
    "vnm_adm1.plot(edgecolor = 'b', facecolor = 'w', linewidth = .4, linestyle = '--', ax = ax);"
   ]
  },
  {
   "cell_type": "markdown",
   "id": "8c17490f",
   "metadata": {},
   "source": [
    "# Spatial join\n",
    "Spatial join is to compare two geospatial data whether they are spatially combined by using `.sjoin` method.  \n",
    "There are three operations - `intersects`, `within`, `contains`."
   ]
  },
  {
   "cell_type": "markdown",
   "id": "86545a4f",
   "metadata": {},
   "source": [
    "Which road networks intersect Hanoi?"
   ]
  },
  {
   "cell_type": "code",
   "execution_count": null,
   "id": "fa03ef86",
   "metadata": {},
   "outputs": [],
   "source": [
    "# Extract Hanoi\n",
    "vnm_hanoi = vnm_adm1[vnm_adm1['NAME_1'] == 'Hà Nội'].reset_index(drop = True)\n",
    "vnm_hanoi.head()"
   ]
  },
  {
   "cell_type": "code",
   "execution_count": null,
   "id": "1109938b",
   "metadata": {},
   "outputs": [],
   "source": [
    "# Spatially join hanoi admin and road network\n",
    "## Intersects\n",
    "hanoi_rd_intersects = gpd.sjoin(vnm_rd_primary, vnm_hanoi , how = 'inner', op = 'intersects')\n",
    "print(\"N of intersects is {}\".format(len(hanoi_rd_intersects)))\n",
    "hanoi_rd_intersects.head(1)"
   ]
  },
  {
   "cell_type": "code",
   "execution_count": null,
   "id": "dcb387f0",
   "metadata": {},
   "outputs": [],
   "source": [
    "## Within\n",
    "hanoi_rd_within = gpd.sjoin(vnm_rd_primary, vnm_hanoi , how = 'inner', op = 'within')\n",
    "print(\"N of within is {}\".format(len(hanoi_rd_within)))\n",
    "hanoi_rd_within.head(1)"
   ]
  },
  {
   "cell_type": "code",
   "execution_count": null,
   "id": "24fa90b5",
   "metadata": {},
   "outputs": [],
   "source": [
    "## Contains\n",
    "hanoi_rd_contain = gpd.sjoin(vnm_rd_primary, vnm_hanoi , how = 'inner', op = 'contains')\n",
    "print(\"N of contains is {}\".format(len(hanoi_rd_contain)))\n",
    "hanoi_rd_contain.head(1)"
   ]
  },
  {
   "cell_type": "code",
   "execution_count": null,
   "id": "c708e915",
   "metadata": {},
   "outputs": [],
   "source": [
    "# Visualize two maps\n",
    "fig, (ax1, ax2) = plt.subplots(1, 2, figsize = (12, 12))\n",
    "hanoi_rd_intersects.plot(column = 'RTT_DESCRI', cmap = 'viridis_r', linewidth = 2, ax = ax1)\n",
    "vnm_hanoi.plot(edgecolor = 'w', facecolor = 'lightgray', linewidth = 1, alpha = 1, ax = ax1)\n",
    "ax1.set_title('Hanoi roadnetwork - intersects')\n",
    "\n",
    "hanoi_rd_within.plot(column = 'RTT_DESCRI', cmap = 'viridis_r', linewidth = 2, ax = ax2)\n",
    "vnm_hanoi.plot(edgecolor = 'w', facecolor = 'lightgray', linewidth = 1, alpha = 1, ax = ax2)\n",
    "ax2.set_title('Hanoi roadnetwork - within');"
   ]
  },
  {
   "cell_type": "markdown",
   "id": "4bea8f37",
   "metadata": {},
   "source": [
    "# Convert to UTM (Projected CRS)\n",
    "## Calculate distance and area\n",
    "To measure distance and area, we need to use **UTM (Projected CRS)**. To convert the CRS, we need to identify UTM in our region of interest. Here are the steps to follow:\n",
    "\n",
    "1. find the UTM zone with any map such as [this](http://www.dmap.co.uk/utmworld.htm). Vietnam is **UTM zone 49N**\n",
    "2. Go to any website which provides *EPSG code* such as [Spatial Reference](https://spatialreference.org/) and search the identified UTM. (i.e., just type `UTM zone 49N` in the search box)\n",
    "3. Find the EPSG code with **WGS 84 / UTM zone XX**.\n",
    "4. Copy and paste the EPSG code. For this case, EPSG code is **EPSG:32649**.\n",
    "\n",
    "CRS conversion is conducted with `.to_crs()` method."
   ]
  },
  {
   "cell_type": "code",
   "execution_count": null,
   "id": "8a65c034",
   "metadata": {},
   "outputs": [],
   "source": [
    "# First, let's check the current crs and area size\n",
    "print('Original CRS:\\t', vnm_hanoi.crs)\n",
    "print('Area size:\\t', vnm_hanoi.area.values[0]) # Area size can be obtained with `.area` method."
   ]
  },
  {
   "cell_type": "code",
   "execution_count": null,
   "id": "ec86ef4b",
   "metadata": {},
   "outputs": [],
   "source": [
    "# Convert CRS to UTM\n",
    "vnm_hanoi_converted = vnm_hanoi.to_crs('EPSG:32649')"
   ]
  },
  {
   "cell_type": "code",
   "execution_count": null,
   "id": "e71ed7aa",
   "metadata": {},
   "outputs": [],
   "source": [
    "# Check if properly transformed\n",
    "print('--Before--')\n",
    "print('Original CRS:\\t', vnm_hanoi.crs)\n",
    "print('Area size:\\t', vnm_hanoi.area.values[0]) # Area size can be obtained with `.area` method.\n",
    "print('\\n--After--')\n",
    "print('Converted CRS:\\t', vnm_hanoi_converted.crs)\n",
    "print('Area size:\\t', vnm_hanoi_converted.area.values[0])"
   ]
  },
  {
   "cell_type": "code",
   "execution_count": null,
   "id": "662886c4",
   "metadata": {},
   "outputs": [],
   "source": [
    "# Of course, we can reconvert CRS to the original\n",
    "vnm_hanoi_reconverted = vnm_hanoi_converted.to_crs('EPSG:4236')\n",
    "print('--Reconverted--')\n",
    "print('Reconverted CRS:\\t', vnm_hanoi_reconverted.crs)\n",
    "print('Area size:\\t', vnm_hanoi_reconverted.area.values[0])"
   ]
  },
  {
   "cell_type": "markdown",
   "id": "1d184a52",
   "metadata": {},
   "source": [
    "# Calculate the distance between two points\n",
    "ハノイと各Provinceの距離を計算します。そのために以下の作業を行います。\n",
    "1. ２つのGeoDataFrameを同じUTMに変換 - `vnm_hanoi` and `vnm_adm1`\n",
    "2. Polygon DataをPoint Dataに変換。２つの地点の距離を計算するには、それぞれがPointデータになっている必要がある。上記GeoDataFrameはポリゴンであることから、その中心点（Centroid）を抽出し、各ポリゴンを**「点化」**する。\n",
    "3. 距離計算。"
   ]
  },
  {
   "cell_type": "markdown",
   "id": "b19b183e",
   "metadata": {},
   "source": [
    "## 1. ２つのGeoDataFrameを同じUTMに変換"
   ]
  },
  {
   "cell_type": "code",
   "execution_count": null,
   "id": "6e78b10d",
   "metadata": {},
   "outputs": [],
   "source": [
    "# Convert ADM1 shapefile.\n",
    "vnm_adm1_converted = vnm_adm1.to_crs('EPSG:32649')"
   ]
  },
  {
   "cell_type": "code",
   "execution_count": null,
   "id": "6340178f",
   "metadata": {},
   "outputs": [],
   "source": [
    "print('Hanoi Data:\\t', vnm_hanoi_converted.crs)\n",
    "print('VNM AMD1 Data:\\t', vnm_adm1_converted.crs)"
   ]
  },
  {
   "cell_type": "markdown",
   "id": "e20afcda",
   "metadata": {},
   "source": [
    "## 2. Polygon DataをPoint Dataに変換\n",
    "2-1. Centroidを取得  \n",
    "2-2. CentroidをGeometryにアサインする。"
   ]
  },
  {
   "cell_type": "code",
   "execution_count": null,
   "id": "e47d5506",
   "metadata": {},
   "outputs": [],
   "source": [
    "# Calculate area and identify centroid of each region\n",
    "# Centroid is obtained with `.centroid` method\n",
    "vnm_adm1_converted['centroid'] = vnm_adm1_converted.centroid\n",
    "vnm_adm1_converted.head()"
   ]
  },
  {
   "cell_type": "code",
   "execution_count": null,
   "id": "81272556",
   "metadata": {},
   "outputs": [],
   "source": [
    "# Visualize the geodataframe\n",
    "vnm_adm1_converted.plot(edgecolor = 'r', facecolor = 'lightgray', linewidth = .5, figsize = (7, 10))\n",
    "plt.title('Even though we obtained centroid, \\nGeoDataFrame is still represented as \"Polygon\".', fontsize = 16, pad = 20);"
   ]
  },
  {
   "cell_type": "markdown",
   "id": "0eb3289b",
   "metadata": {},
   "source": [
    "Geopandas takes the geometry of its data from the `geometry` column. Thus, we need to assign the centroid column to the geometry column. To do so, we need to do two steps: 1) remove the geometry column, 2) convert the name of the centroid to the geometry."
   ]
  },
  {
   "cell_type": "code",
   "execution_count": null,
   "id": "872808e8",
   "metadata": {},
   "outputs": [],
   "source": [
    "# In order to calculate distance, we need to reset the geometry column to centroid\n",
    "## Drop original geometry which is polygon\n",
    "vnm_adm1_converted = vnm_adm1_converted.drop(columns = 'geometry')\n",
    "\n",
    "# rename centroid to geometry\n",
    "vnm_adm1_converted = vnm_adm1_converted.rename(columns = {'centroid':'geometry'})\n",
    "\n",
    "vnm_adm1_converted.head()"
   ]
  },
  {
   "cell_type": "code",
   "execution_count": null,
   "id": "edb8cc81",
   "metadata": {},
   "outputs": [],
   "source": [
    "# Show centroid map\n",
    "vnm_adm1_converted.plot(edgecolor = 'r', facecolor = 'lightgray', linewidth = .5, figsize = (7, 10))\n",
    "plt.title('GeoDataFrame is converted to Point Data', fontsize = 16, pad = 20);"
   ]
  },
  {
   "cell_type": "markdown",
   "id": "777495c7",
   "metadata": {},
   "source": [
    "## 3. 距離計算\n",
    "距離を計算するためには、`.distance` methodを用いる。"
   ]
  },
  {
   "cell_type": "code",
   "execution_count": null,
   "id": "2b7cb42c",
   "metadata": {},
   "outputs": [],
   "source": [
    "# Calculate the distance of the 0th index\n",
    "vnm_hanoi_converted.distance(vnm_adm1_converted['geometry'][0])"
   ]
  },
  {
   "cell_type": "code",
   "execution_count": null,
   "id": "aa740c15",
   "metadata": {},
   "outputs": [],
   "source": [
    "# Calculate the distance of the 1st index\n",
    "vnm_hanoi_converted.distance(vnm_adm1_converted['geometry'][1])"
   ]
  },
  {
   "cell_type": "markdown",
   "id": "0dde7bfe",
   "metadata": {},
   "source": [
    "`.distance` methodは２つのポイントの間の距離を計算するもの（ポイントとポイントが１対１の関係になっている必要がある）。今回のタスクは、ハノイとそれぞれのProviceの中心点（Centroid）の距離を計算するため、１対複数となっている。これを１対１の関係にして計算してあげる必要があります。  \n",
    "\n",
    "そのためには、Province側のデータを**for loop**で回してあげて一つずつ計算していくことになります。"
   ]
  },
  {
   "cell_type": "code",
   "execution_count": null,
   "id": "3ded0fc7",
   "metadata": {},
   "outputs": [],
   "source": [
    "# Calculate distance from Hanoi to each region (for-loop)\n",
    "dist_to_hanoi = []\n",
    "for geom in vnm_adm1_converted['geometry']:\n",
    "    dist = vnm_hanoi_converted.distance(geom)[0]\n",
    "    dist_to_hanoi.append(dist)\n",
    "dist_to_hanoi[:5]"
   ]
  },
  {
   "cell_type": "code",
   "execution_count": null,
   "id": "c03db37f",
   "metadata": {},
   "outputs": [],
   "source": [
    "# Calculate distance from Hanoi to each region (list comprehension)\n",
    "dist_to_hanoi = [vnm_hanoi_converted.distance(geom)[0] for geom in vnm_adm1_converted['geometry']]\n",
    "dist_to_hanoi[:5]"
   ]
  },
  {
   "cell_type": "code",
   "execution_count": null,
   "id": "9b33dd9b",
   "metadata": {},
   "outputs": [],
   "source": [
    "# Add a new column `dist_to_hanoi` to the geodataframe and assign the calculated distance list\n",
    "vnm_adm1_converted['dist_to_hanoi'] = dist_to_hanoi"
   ]
  },
  {
   "cell_type": "code",
   "execution_count": null,
   "id": "bfdfa7f5",
   "metadata": {},
   "outputs": [],
   "source": [
    "# Sort geodataframe by distance\n",
    "vnm_adm1_converted = vnm_adm1_converted.sort_values(by = 'dist_to_hanoi', ascending = True)"
   ]
  },
  {
   "cell_type": "code",
   "execution_count": null,
   "id": "fd1d9072",
   "metadata": {},
   "outputs": [],
   "source": [
    "vnm_adm1_converted.head()"
   ]
  },
  {
   "cell_type": "code",
   "execution_count": null,
   "id": "bdb14b9e",
   "metadata": {},
   "outputs": [],
   "source": [
    "# Convert geodataframe to Pandas Dataframe\n",
    "\n",
    "## Convert to Pandas\n",
    "df_vnm_adm1_converted = pd.DataFrame(vnm_adm1_converted)\n",
    "\n",
    "## Make bar chart\n",
    "df_vnm_adm1_converted.plot(kind = 'bar', x = 'NAME_1', y = 'dist_to_hanoi', figsize = (12, 5))\n",
    "plt.title('Distance from Hanoi to each province', fontsize = 16);"
   ]
  },
  {
   "cell_type": "code",
   "execution_count": null,
   "id": "095f8fc7",
   "metadata": {},
   "outputs": [],
   "source": [
    "vnm_adm1_reconverted = vnm_adm1.to_crs('EPSG:32649')\n",
    "\n",
    "fig, ax = plt.subplots(1, 1, figsize = (7, 9))\n",
    "vnm_adm1_reconverted.plot(edgecolor = 'r', facecolor = 'lightgray', linewidth = .5, ax = ax)\n",
    "vnm_adm1_converted.plot(column = 'dist_to_hanoi', scheme = 'FisherJenks', legend = True, ax = ax,\n",
    "                       legend_kwds={'loc': 'lower right', 'bbox_to_anchor': (1.8, 0),\n",
    "                                    'title':'Distance to Hanoi (meter)', 'title_fontsize': 14})\n",
    "plt.title('Distance to Hanoi');"
   ]
  },
  {
   "cell_type": "markdown",
   "id": "a764c8af",
   "metadata": {},
   "source": [
    "# Count population by province\n",
    "Raster Dataは`Rasterio`というライブラリを用いますが、研修の時間がないため、`Rasterio`の解説は省きます。  \n",
    "一方、`rasterstats`というライブラリは、とてもシンプルかつ有用なので紹介します。  \n",
    "すでに、最初のインストラクションで`rasterstats`はインストール済みだと思います。  \n",
    "\n",
    "`rasterstats`で最も有用なのは`zonal_stats`というモジュールで、Zonal Statisticsを得ることができます。例えば、1kmメッシュの国レベルの人口データに関するRaster Dataがあった場合、それを州別の人口としてカウントすることができます。以下ではそれを具体的に示します。\n",
    "\n",
    "1kmメッシュの人口のラスターデータは[WorldPop](https://www.worldpop.org/project/categories?id=3)よりダウンロード済みです。これをADM1の州別に人口をカウントします。"
   ]
  },
  {
   "cell_type": "code",
   "execution_count": null,
   "id": "8a880753",
   "metadata": {},
   "outputs": [],
   "source": [
    "# Import library\n",
    "from rasterstats import zonal_stats\n",
    "import rasterio"
   ]
  },
  {
   "cell_type": "code",
   "execution_count": null,
   "id": "89a6f8c4",
   "metadata": {},
   "outputs": [],
   "source": [
    "# Raster file\n",
    "tif_file = f'data/vnm_ppp_2020_1km_Aggregated_UNadj.tif'"
   ]
  },
  {
   "cell_type": "code",
   "execution_count": null,
   "id": "cb9a52b8",
   "metadata": {},
   "outputs": [],
   "source": [
    "# Check CRS to be the same between raster and vector\n",
    "print('Raster Data: ', vnm_adm1.crs)\n",
    "with rasterio.open(tif_file) as f:\n",
    "    print('Vector Data; ', f.crs)"
   ]
  },
  {
   "cell_type": "code",
   "execution_count": null,
   "id": "6923d047",
   "metadata": {},
   "outputs": [],
   "source": [
    "# Execute zonal_stats\n",
    "pop_list_adm1 = zonal_stats(vnm_adm1, tif_file, stats = 'sum')\n",
    "pop_list_adm1[:5]"
   ]
  },
  {
   "cell_type": "code",
   "execution_count": null,
   "id": "4c78f6d6",
   "metadata": {},
   "outputs": [],
   "source": [
    "# Convert dictionary-based list to Pandas DataFrame\n",
    "df_pop = pd.DataFrame.from_dict(pop_list_adm1)\n",
    "df_pop.columns = ['population']\n",
    "df_pop.head()"
   ]
  },
  {
   "cell_type": "code",
   "execution_count": null,
   "id": "f53a1cab",
   "metadata": {},
   "outputs": [],
   "source": [
    "# Devide by 10,000\n",
    "df_pop['population'] = df_pop['population'] / 10000\n",
    "df_pop['population'] = df_pop['population'].astype(int)\n",
    "df_pop.head()"
   ]
  },
  {
   "cell_type": "code",
   "execution_count": null,
   "id": "776e0189",
   "metadata": {},
   "outputs": [],
   "source": [
    "# Check data size\n",
    "print('Population data: ', df_pop.shape)\n",
    "print('ADM1 data: ', vnm_adm1.shape)"
   ]
  },
  {
   "cell_type": "code",
   "execution_count": null,
   "id": "a250db76",
   "metadata": {},
   "outputs": [],
   "source": [
    "# Add pop data to ADM1 data\n",
    "vnm_adm1['population'] = df_pop['population']"
   ]
  },
  {
   "cell_type": "code",
   "execution_count": null,
   "id": "bb7b3a4c",
   "metadata": {},
   "outputs": [],
   "source": [
    "vnm_adm1.head()"
   ]
  },
  {
   "cell_type": "code",
   "execution_count": null,
   "id": "285559f1",
   "metadata": {},
   "outputs": [],
   "source": [
    "# Check data type\n",
    "type(vnm_adm1)"
   ]
  },
  {
   "cell_type": "code",
   "execution_count": null,
   "id": "b534f8e2",
   "metadata": {},
   "outputs": [],
   "source": [
    "# Convert CRS for visualization\n",
    "vnm_adm1_pop_converted = vnm_adm1.to_crs('EPSG:32649')\n",
    "\n",
    "fig, ax = plt.subplots(1, 1, figsize = (7, 12))\n",
    "vnm_adm1_pop_converted.plot(column = 'population', edgecolor = 'k', scheme = 'FisherJenks',\n",
    "                            legend = True, linewidth = .5, cmap = 'Reds', ax = ax)\n",
    "\n",
    "vnm_adm1_converted.plot(column = 'dist_to_hanoi', scheme = 'FisherJenks', legend = True, ax = ax, s = 60, alpha = .7,\n",
    "                       legend_kwds={'loc': 'lower right', 'bbox_to_anchor': (1.8, 0),\n",
    "                                    'title':'Distance to Hanoi (meter)', 'title_fontsize': 14})\n",
    "\n",
    "ax.set_title('Population and distance to Hanoi', fontsize = 18);"
   ]
  },
  {
   "cell_type": "code",
   "execution_count": null,
   "id": "488689b5",
   "metadata": {},
   "outputs": [],
   "source": []
  },
  {
   "cell_type": "code",
   "execution_count": null,
   "id": "379eb13f",
   "metadata": {},
   "outputs": [],
   "source": [
    "# This cell is to create a config file.\n",
    "# Hiding this cell for authority\n",
    "\n",
    "# Hiding celll from https://gist.github.com/Zsailer/5d1f4e357c78409dd9a5a4e5c61be552\n",
    "from IPython.display import HTML\n",
    "from IPython.display import display\n",
    "\n",
    "# Taken from https://stackoverflow.com/questions/31517194/how-to-hide-one-specific-cell-input-or-output-in-ipython-notebook\n",
    "tag = HTML('''<script>\n",
    "code_show=true; \n",
    "function code_toggle() {\n",
    "    if (code_show){\n",
    "        $('div.cell.code_cell.rendered.selected div.input').hide();\n",
    "    } else {\n",
    "        $('div.cell.code_cell.rendered.selected div.input').show();\n",
    "    }\n",
    "    code_show = !code_show\n",
    "} \n",
    "$( document ).ready(code_toggle);\n",
    "</script>\n",
    "Creating requirements.txt file. To show/hide this cell's raw code input, click <a href=\"javascript:code_toggle()\">here</a>.''')\n",
    "display(tag)\n",
    "\n",
    "############### Write code below ##################\n",
    "# Config file to freeze packages in a notebook\n",
    "# from https://stackoverflow.com/questions/40428931/package-for-listing-version-of-packages-used-in-a-jupyter-notebook\n",
    "import pkg_resources\n",
    "import types\n",
    "\n",
    "def get_requirements():\n",
    "    def get_imports():\n",
    "        for name, val in globals().items():\n",
    "            if isinstance(val, types.ModuleType):\n",
    "                # Split ensures you get root package, \n",
    "                # not just imported function\n",
    "                name = val.__name__.split(\".\")[0]\n",
    "\n",
    "            elif isinstance(val, type):\n",
    "                name = val.__module__.split(\".\")[0]\n",
    "\n",
    "            # Some packages are weird and have different\n",
    "            # imported names vs. system/pip names. Unfortunately,\n",
    "            # there is no systematic way to get pip names from\n",
    "            # a package's imported name. You'll have to add\n",
    "            # exceptions to this list manually!\n",
    "            poorly_named_packages = {\n",
    "                \"PIL\": \"Pillow\",\n",
    "                \"sklearn\": \"scikit-learn\"\n",
    "            }\n",
    "            if name in poorly_named_packages.keys():\n",
    "                name = poorly_named_packages[name]\n",
    "\n",
    "            yield name\n",
    "    imports = list(set(get_imports()))\n",
    "\n",
    "    # The only way I found to get the version of the root package\n",
    "    # from only the name of the package is to cross-check the names \n",
    "    # of installed packages vs. imported packages\n",
    "    requirements = []\n",
    "    for m in pkg_resources.working_set:\n",
    "        if m.project_name in imports and m.project_name!=\"pip\":\n",
    "            requirements.append((m.project_name, m.version))\n",
    "\n",
    "    \n",
    "    with open(\"requirements.txt\", \"w\") as f:\n",
    "        print('Create \"requirements.txt\"')\n",
    "        for r in requirements:\n",
    "            string = r[0] + '==' + r[1] + '\\n'\n",
    "            f.write(string)\n",
    "            print(\"\\t{}=={}\".format(*r))\n",
    "    print('\"requirements.txt\" was created.')\n",
    "        \n",
    "get_requirements()"
   ]
  },
  {
   "cell_type": "code",
   "execution_count": null,
   "id": "e8c8dbc8",
   "metadata": {},
   "outputs": [],
   "source": []
  }
 ],
 "metadata": {
  "kernelspec": {
   "display_name": "geospatial",
   "language": "python",
   "name": "geospatial"
  },
  "language_info": {
   "codemirror_mode": {
    "name": "ipython",
    "version": 3
   },
   "file_extension": ".py",
   "mimetype": "text/x-python",
   "name": "python",
   "nbconvert_exporter": "python",
   "pygments_lexer": "ipython3",
   "version": "3.8.10"
  }
 },
 "nbformat": 4,
 "nbformat_minor": 5
}
